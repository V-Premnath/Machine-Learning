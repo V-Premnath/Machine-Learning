{
 "cells": [
  {
   "cell_type": "code",
   "execution_count": 1,
   "id": "92d29d67-d1ba-43f9-9073-8ff6a54e55b5",
   "metadata": {},
   "outputs": [
    {
     "name": "stdout",
     "output_type": "stream",
     "text": [
      "['I', '4', 'www.microsoft.com', 'A', '1081', '1', 'Access', 'Development', '/accessdev']\n",
      "['I', '4', 'www.microsoft.com', 'A', '1290', '1', 'Activate', 'the', 'Internet', 'Conference', '/devmovies']\n",
      "['I', '4', 'www.microsoft.com', 'A', '1129', '1', 'ActiveX', 'Data', 'Objects', '/ado']\n",
      "['I', '4', 'www.microsoft.com', 'A', '1070', '1', 'ActiveX', 'Technology', 'Development', '/activex']\n"
     ]
    }
   ],
   "source": [
    "import pandas as pd\n",
    "data=pd.read_csv(\"/home/premnath/ML/datasets/categorical/microsoft/anonymous-msweb.data\",low_memory=False)\n",
    "df=pd.DataFrame(data[6:])\n",
    "df.head(15)\n",
    "df=df[['I', '4', 'www.microsoft.com']]\n",
    "df.head(15)\n",
    "df1=pd.DataFrame(df.groupby(df['4']))\n",
    "a=list(df1[1].values)\n",
    "for i in range(1,5):\n",
    "    print(str(a[i]).split())\n"
   ]
  },
  {
   "cell_type": "code",
   "execution_count": 74,
   "id": "09d524cb-6b34-4ac3-b542-aeb2c74dec96",
   "metadata": {},
   "outputs": [
    {
     "data": {
      "text/plain": [
       "pandas.core.frame.DataFrame"
      ]
     },
     "execution_count": 74,
     "metadata": {},
     "output_type": "execute_result"
    }
   ],
   "source": [
    "type(data)"
   ]
  },
  {
   "cell_type": "code",
   "execution_count": null,
   "id": "2cc0de94-e798-4733-af8f-956520078f41",
   "metadata": {},
   "outputs": [],
   "source": []
  }
 ],
 "metadata": {
  "kernelspec": {
   "display_name": "Python 3 (ipykernel)",
   "language": "python",
   "name": "python3"
  },
  "language_info": {
   "codemirror_mode": {
    "name": "ipython",
    "version": 3
   },
   "file_extension": ".py",
   "mimetype": "text/x-python",
   "name": "python",
   "nbconvert_exporter": "python",
   "pygments_lexer": "ipython3",
   "version": "3.10.6"
  }
 },
 "nbformat": 4,
 "nbformat_minor": 5
}
